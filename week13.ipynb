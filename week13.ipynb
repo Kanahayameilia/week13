{
  "nbformat": 4,
  "nbformat_minor": 0,
  "metadata": {
    "colab": {
      "provenance": []
    },
    "kernelspec": {
      "name": "python3",
      "display_name": "Python 3"
    },
    "language_info": {
      "name": "python"
    }
  },
  "cells": [
    {
      "cell_type": "markdown",
      "source": [
        "\n",
        "Python Clases dan Objek\n",
        "\n",
        "Python adalah bahasa pemrograman berorientasi objek.\n",
        "\n",
        "Hampir semua hal di Python adalah objek, dengan properti dan metodenya.\n",
        "\n",
        "Kelas seperti konstruktor objek, atau \"cetak biru\" untuk membuat objek.\n"
      ],
      "metadata": {
        "id": "TVvZZb50wIfH"
      }
    },
    {
      "cell_type": "markdown",
      "source": [
        "Membuat Class\n",
        "Membuat class dapat menggunakan kata kunci ( class: )"
      ],
      "metadata": {
        "id": "DGB0LVgQwPye"
      }
    },
    {
      "cell_type": "code",
      "execution_count": 1,
      "metadata": {
        "id": "XmdACXpgvvzR"
      },
      "outputs": [],
      "source": [
        "#contoh\n",
        "\n",
        "class Myclass:\n",
        "  x=10"
      ]
    },
    {
      "cell_type": "markdown",
      "source": [
        "Membuat Object\n",
        "Sekarang membuat object dapat menggunakan penamaan Myclass untuk membuat object"
      ],
      "metadata": {
        "id": "ndWgUFs0wnXP"
      }
    },
    {
      "cell_type": "code",
      "source": [
        "#contoh\n",
        "\n",
        "m1 = Myclass()\n",
        "print(m1.x)"
      ],
      "metadata": {
        "colab": {
          "base_uri": "https://localhost:8080/"
        },
        "id": "XRatWFkpwzv2",
        "outputId": "46f3d4e0-5aed-4f1e-a1fa-99672c3a2c8c"
      },
      "execution_count": 2,
      "outputs": [
        {
          "output_type": "stream",
          "name": "stdout",
          "text": [
            "10\n"
          ]
        }
      ]
    },
    {
      "cell_type": "markdown",
      "source": [
        "Fungsi_init_()\n",
        "\n",
        "Contoh di atas adalah class dan object dalam bentuk yang paling sederhana.\n",
        "\n",
        "Untuk memahami arti class, kita harus memahami fungsi bawaan __init__() .\n",
        "\n",
        "Semua kelas memiliki fungsi yang disebut __init__(), yang selalu dieksekusi saat kelas dimulai.\n",
        "\n",
        "Gunakan __init__()fungsi ini untuk menetapkan nilai ke properti objek, atau operasi lain yang perlu dilakukan saat objek sedang dibuat:\n"
      ],
      "metadata": {
        "id": "BxoNS9a3xAI_"
      }
    },
    {
      "cell_type": "code",
      "source": [
        "#contoh\n",
        "\n",
        "class Person:\n",
        "  def __init__(self, name, age):\n",
        "    self.name = name\n",
        "    self.age = age\n",
        "\n",
        "p1 = Person(\"anaya\", 146)\n",
        "\n",
        "print(p1.name)\n",
        "print(p1.age)"
      ],
      "metadata": {
        "colab": {
          "base_uri": "https://localhost:8080/"
        },
        "id": "BoQws8SNxS5v",
        "outputId": "516714e5-54ad-4850-b8df-0073c0ceb88f"
      },
      "execution_count": 4,
      "outputs": [
        {
          "output_type": "stream",
          "name": "stdout",
          "text": [
            "anaya\n",
            "146\n"
          ]
        }
      ]
    },
    {
      "cell_type": "markdown",
      "source": [
        "Fungsi __str__()\n",
        "\n",
        "Fungsi ini __str__()mengontrol apa yang harus dikembalikan ketika objek class direpresentasikan sebagai string.\n",
        "\n",
        "Jika __str__()fungsi tidak diatur, representasi string objek dikembalikan:"
      ],
      "metadata": {
        "id": "zMHOqrkoycYf"
      }
    },
    {
      "cell_type": "code",
      "source": [
        "#contoh\n",
        "\n",
        "class Person:\n",
        "  def __init__(self, name, age):\n",
        "    self.name = name\n",
        "    self.age = age\n",
        "\n",
        "  def __str__(self):\n",
        "    return f\"{self.name}({self.age})\"\n",
        "\n",
        "p1 = Person(\"anaya\", 369)\n",
        "\n",
        "print(p1)"
      ],
      "metadata": {
        "colab": {
          "base_uri": "https://localhost:8080/"
        },
        "id": "9AmPQJLEyhh9",
        "outputId": "d74a9d74-3d7c-426c-80cf-d983b5a945a5"
      },
      "execution_count": 5,
      "outputs": [
        {
          "output_type": "stream",
          "name": "stdout",
          "text": [
            "anaya(369)\n"
          ]
        }
      ]
    },
    {
      "cell_type": "markdown",
      "source": [
        "Object Method\n",
        "Objek juga dapat berisi metode. Metode dalam objek adalah fungsi yang dimiliki oleh objek tersebut."
      ],
      "metadata": {
        "id": "FnWbiM2Yys0X"
      }
    },
    {
      "cell_type": "code",
      "source": [
        "#contoh\n",
        "\n",
        "class Person:\n",
        "  def __init__(self, name, age):\n",
        "    self.name = name\n",
        "    self.age = age\n",
        "\n",
        "  def myfunc(self):\n",
        "    print(\"Hello my name is \" + self.name)\n",
        "\n",
        "p1 = Person(\"anaya\", 536)\n",
        "p1.myfunc()"
      ],
      "metadata": {
        "colab": {
          "base_uri": "https://localhost:8080/"
        },
        "id": "5-u8IzS0yyTN",
        "outputId": "510dda16-8fa6-49cb-87b2-42fd56b01d67"
      },
      "execution_count": 6,
      "outputs": [
        {
          "output_type": "stream",
          "name": "stdout",
          "text": [
            "Hello my name is anaya\n"
          ]
        }
      ]
    },
    {
      "cell_type": "markdown",
      "source": [
        "Self Parameter\n",
        "Parameter selfmerupakan referensi ke instansi kelas saat ini, dan digunakan untuk mengakses variabel yang termasuk dalam kelas tersebut.\n",
        "\n",
        "Tidak harus diberi nama self, Anda dapat menyebutnya apa pun yang Anda suka, tetapi harus menjadi parameter pertama dari fungsi apa pun di kelas:"
      ],
      "metadata": {
        "id": "9aQBieMPzUzP"
      }
    },
    {
      "cell_type": "code",
      "source": [
        "#contoh\n",
        "\n",
        "class Person:\n",
        "  def __init__(mysillyobject, name, age):\n",
        "    mysillyobject.name = name\n",
        "    mysillyobject.age = age\n",
        "\n",
        "  def myfunc(abc):\n",
        "    print(\"Hello my name is \" + abc.name)\n",
        "\n",
        "p1 = Person(\"anaya\", 364)\n",
        "p1.myfunc()\n"
      ],
      "metadata": {
        "colab": {
          "base_uri": "https://localhost:8080/"
        },
        "id": "8Wu6jFTUzZO1",
        "outputId": "aab53681-e785-4772-dc66-2b12217ccef6"
      },
      "execution_count": 7,
      "outputs": [
        {
          "output_type": "stream",
          "name": "stdout",
          "text": [
            "Hello my name is anaya\n"
          ]
        }
      ]
    },
    {
      "cell_type": "markdown",
      "source": [
        "Python Inheritance\n",
        "Inheritance memungkinkan kita mendefinisikan kelas yang mewarisi semua metode dan properti dari kelas lain.\n",
        "\n",
        "Parent class adalah kelas yang diwarisi, disebut juga kelas dasar.\n",
        "\n",
        "Child class adalah kelas yang mewarisi dari kelas lain, disebut juga kelas turunan."
      ],
      "metadata": {
        "id": "OJq1VqcQ0O7P"
      }
    },
    {
      "cell_type": "markdown",
      "source": [
        "Membuat Parent Class\n",
        "Kelas apa pun bisa menjadi Parent class, jadi sintaksnya sama dengan membuat kelas lainnya:"
      ],
      "metadata": {
        "id": "0nC7MEbk0fev"
      }
    },
    {
      "cell_type": "code",
      "source": [
        "#contoh\n",
        "\n",
        "class Person:\n",
        "  def __init__(self, fname, lname):\n",
        "    self.firstname = fname\n",
        "    self.lastname = lname\n",
        "\n",
        "  def printname(self):\n",
        "    print(self.firstname, self.lastname)\n",
        "\n",
        "x = Person( \"The\", \"Hacker\")\n",
        "x.printname()"
      ],
      "metadata": {
        "colab": {
          "base_uri": "https://localhost:8080/"
        },
        "id": "ojkNqpt60lMW",
        "outputId": "c8cd00ea-2b28-4e3f-9c36-fca35378445d"
      },
      "execution_count": 11,
      "outputs": [
        {
          "output_type": "stream",
          "name": "stdout",
          "text": [
            "The Hacker\n"
          ]
        }
      ]
    },
    {
      "cell_type": "markdown",
      "source": [
        "Membuat Child Class\n",
        "Untuk membuat kelas yang mewarisi fungsionalitas dari kelas lain, kirimkan parent class sebagai parameter saat membuat child class:"
      ],
      "metadata": {
        "id": "OjoSS1es07Wn"
      }
    },
    {
      "cell_type": "code",
      "source": [
        "class Student(Person):\n",
        "  pass"
      ],
      "metadata": {
        "id": "k0qZnfNM1YEv"
      },
      "execution_count": 13,
      "outputs": []
    },
    {
      "cell_type": "code",
      "source": [
        "#contoh\n",
        "\n",
        "x = Student(\"john\",\"doe\")\n",
        "x.printname()"
      ],
      "metadata": {
        "colab": {
          "base_uri": "https://localhost:8080/"
        },
        "id": "RQ_vxlbz1LTG",
        "outputId": "f8350eec-a338-4c25-e087-9b162afa0064"
      },
      "execution_count": 15,
      "outputs": [
        {
          "output_type": "stream",
          "name": "stdout",
          "text": [
            "john doe\n"
          ]
        }
      ]
    },
    {
      "cell_type": "markdown",
      "source": [
        "Menambahkan fungsi_init_()\n",
        "Sejauh ini kita telah membuat child class yang mewarisi properti dan metode dari its parent.\n",
        "\n",
        "Kami ingin menambahkan __init__()fungsi ke child class (bukan passkata kunci)."
      ],
      "metadata": {
        "id": "Efnv51Nj1ePm"
      }
    },
    {
      "cell_type": "markdown",
      "source": [
        "Python Iterators\n",
        "Iterator adalah objek yang memuat sejumlah nilai yang dapat dihitung.\n",
        "\n",
        "Iterator adalah objek yang dapat diulang, artinya Anda dapat menelusuri semua nilai.\n",
        "\n",
        "Secara teknis, dalam Python, sebuah iterator adalah objek yang mengimplementasikan protokol iterator, yang terdiri dari metode __iter__() dan __next__().\n",
        "\n"
      ],
      "metadata": {
        "id": "LTHShBcK1ytX"
      }
    },
    {
      "cell_type": "markdown",
      "source": [
        "Iterator vs Iterable(dapat diulang)\n",
        "Lists, tuples, dictionaries, dan sets adalah objek iterable.\n",
        " Semuanya adalah wadah yang dapat diulang yang dapat Anda gunakan untuk mendapatkan iterator.\n",
        "\n",
        "Semua objek ini memiliki iter()metode yang digunakan untuk mendapatkan iterator:"
      ],
      "metadata": {
        "id": "ijZb8U441_-e"
      }
    },
    {
      "cell_type": "code",
      "source": [
        "#contoh\n",
        "\n",
        "mytuple = (\"kys\", \"kms\", \"ykm\")\n",
        "myit = iter(mytuple)\n",
        "\n",
        "print(next(myit))\n",
        "print(next(myit))\n",
        "print(next(myit))"
      ],
      "metadata": {
        "colab": {
          "base_uri": "https://localhost:8080/"
        },
        "id": "9up_Fq972VBf",
        "outputId": "97f9e292-df85-4dc9-d2d5-78e0c33d2217"
      },
      "execution_count": 16,
      "outputs": [
        {
          "output_type": "stream",
          "name": "stdout",
          "text": [
            "kys\n",
            "kms\n",
            "ykm\n"
          ]
        }
      ]
    },
    {
      "cell_type": "markdown",
      "source": [
        "Bahkan string adalah objek yang dapat diulang, dan dapat mengembalikan sebuah iterator:"
      ],
      "metadata": {
        "id": "1aPD5iEw2d1t"
      }
    },
    {
      "cell_type": "markdown",
      "source": [
        "Membuat Iterator\n",
        "Untuk membuat suatu objek/kelas sebagai iterator, Anda harus mengimplementasikan metode __iter__()dan __next__()ke objek Anda.\n",
        "\n",
        "Seperti yang telah Anda pelajari dalam bab Kelas/Objek Python , semua kelas memiliki fungsi yang disebut __init__(), yang memungkinkan Anda melakukan beberapa inisialisasi saat objek sedang dibuat.\n",
        "\n",
        "Metode ini __iter__()bertindak serupa, Anda dapat melakukan operasi (inisialisasi dsb.), tetapi harus selalu mengembalikan objek iterator itu sendiri.\n",
        "\n",
        "Metode ini __next__()juga memungkinkan Anda melakukan operasi, dan harus mengembalikan item berikutnya dalam urutan."
      ],
      "metadata": {
        "id": "_j8dayHa2fA-"
      }
    },
    {
      "cell_type": "code",
      "source": [
        "#contoh\n",
        "\n",
        "class MyNumbers:\n",
        "  def __iter__(self):\n",
        "    self.a = 2\n",
        "    return self\n",
        "\n",
        "  def __next__(self):\n",
        "    x = self.a\n",
        "    self.a += 2\n",
        "    return x\n",
        "\n",
        "myclass = MyNumbers()\n",
        "myiter = iter(myclass)\n",
        "\n",
        "print(next(myiter))\n",
        "print(next(myiter))\n",
        "print(next(myiter))\n",
        "print(next(myiter))\n",
        "print(next(myiter))"
      ],
      "metadata": {
        "colab": {
          "base_uri": "https://localhost:8080/"
        },
        "id": "MwYES7vM2mV-",
        "outputId": "7bf9b680-e173-4935-81bb-f442c31678fb"
      },
      "execution_count": 17,
      "outputs": [
        {
          "output_type": "stream",
          "name": "stdout",
          "text": [
            "2\n",
            "4\n",
            "6\n",
            "8\n",
            "10\n"
          ]
        }
      ]
    },
    {
      "cell_type": "markdown",
      "source": [
        "StopIteration\n",
        "Contoh di atas akan terus berlanjut selamanya jika Anda memiliki cukup banyak pernyataan next(), atau jika digunakan dalam satu forloop.\n",
        "\n",
        "Untuk mencegah iterasi berlangsung terus-menerus, kita dapat menggunakan StopIteration."
      ],
      "metadata": {
        "id": "sqt_4P9q2u_G"
      }
    },
    {
      "cell_type": "code",
      "source": [
        "#contoh\n",
        "\n",
        "class MyNumbers:\n",
        "  def __iter__(self):\n",
        "    self.a = 5\n",
        "    return self\n",
        "\n",
        "  def __next__(self):\n",
        "    if self.a <= 50:\n",
        "      x = self.a\n",
        "      self.a += 5\n",
        "      return x\n",
        "    else:\n",
        "      raise StopIteration\n",
        "\n",
        "myclass = MyNumbers()\n",
        "myiter = iter(myclass)\n",
        "\n",
        "for x in myiter:\n",
        "  print(x)"
      ],
      "metadata": {
        "colab": {
          "base_uri": "https://localhost:8080/"
        },
        "id": "CUupecRt24nk",
        "outputId": "f914817a-0251-42bf-de30-9cafe377c1aa"
      },
      "execution_count": 18,
      "outputs": [
        {
          "output_type": "stream",
          "name": "stdout",
          "text": [
            "5\n",
            "10\n",
            "15\n",
            "20\n",
            "25\n",
            "30\n",
            "35\n",
            "40\n",
            "45\n",
            "50\n"
          ]
        }
      ]
    },
    {
      "cell_type": "markdown",
      "source": [
        "Python Polymorphism\n",
        "Kata \"polimorfisme\" berarti \"banyak bentuk\", dan dalam pemrograman mengacu pada metode/fungsi/operator dengan nama yang sama yang dapat dieksekusi pada banyak objek atau kelas.\n",
        "\n"
      ],
      "metadata": {
        "id": "SOnQHHmt3IRX"
      }
    },
    {
      "cell_type": "markdown",
      "source": [
        "Fungsi Polimorfisme\n",
        "Contoh fungsi Python yang dapat digunakan pada objek yang berbeda adalah len()fungsi.\n"
      ],
      "metadata": {
        "id": "rXjcCW2M3Sl2"
      }
    },
    {
      "cell_type": "markdown",
      "source": [
        "string\n",
        "Untuk string len()mengembalikan jumlah karakter:"
      ],
      "metadata": {
        "id": "4QCvBRQS3XC-"
      }
    },
    {
      "cell_type": "code",
      "source": [
        "#contoh\n",
        "\n",
        "x = \"Hello World!\"\n",
        "\n",
        "print(len(x))"
      ],
      "metadata": {
        "colab": {
          "base_uri": "https://localhost:8080/"
        },
        "id": "VPpj7WX83btV",
        "outputId": "91dd33c9-31c1-4d97-d807-7a158ca990e1"
      },
      "execution_count": 19,
      "outputs": [
        {
          "output_type": "stream",
          "name": "stdout",
          "text": [
            "12\n"
          ]
        }
      ]
    },
    {
      "cell_type": "markdown",
      "source": [
        "Tupel\n",
        "Untuk tupel len()mengembalikan jumlah item dalam tupel:"
      ],
      "metadata": {
        "id": "JTkkOi-23i_V"
      }
    },
    {
      "cell_type": "code",
      "source": [
        "#contoh\n",
        "\n",
        "mytuple = (\"kms\", \"ykm\", \"ikm\")\n",
        "\n",
        "print(len(mytuple))"
      ],
      "metadata": {
        "colab": {
          "base_uri": "https://localhost:8080/"
        },
        "id": "rNXI4rAc3jwv",
        "outputId": "e77b167b-e65c-43ec-9a50-e7dba840f2b8"
      },
      "execution_count": 20,
      "outputs": [
        {
          "output_type": "stream",
          "name": "stdout",
          "text": [
            "3\n"
          ]
        }
      ]
    },
    {
      "cell_type": "markdown",
      "source": [
        "Dictionary\n",
        "Untuk Dictionary len()mengembalikan jumlah pasangan kunci/nilai dalam Dictionary:"
      ],
      "metadata": {
        "id": "3ZzydxJP3s0O"
      }
    },
    {
      "cell_type": "code",
      "source": [
        "#contoh\n",
        "\n",
        "thisdict = {\n",
        "  \"brand\": \"Ford\",\n",
        "  \"model\": \"Mustang\",\n",
        "  \"year\": 1964\n",
        "}\n",
        "\n",
        "print(len(thisdict))"
      ],
      "metadata": {
        "colab": {
          "base_uri": "https://localhost:8080/"
        },
        "id": "-tQk9nKo3y51",
        "outputId": "446b7f84-77fd-438c-87fe-25c6f035135d"
      },
      "execution_count": 21,
      "outputs": [
        {
          "output_type": "stream",
          "name": "stdout",
          "text": [
            "3\n"
          ]
        }
      ]
    },
    {
      "cell_type": "markdown",
      "source": [
        "Polimorfisme sering digunakan dalam metode Kelas, di mana kita dapat memiliki beberapa kelas dengan nama metode yang sama.\n",
        "\n",
        "Misalnya, katakanlah kita punya tiga kelas: Car, Boat, dan Plane, dan semuanya punya metode yang disebut move():"
      ],
      "metadata": {
        "id": "j9n1BYVL38C-"
      }
    },
    {
      "cell_type": "code",
      "source": [
        "#contoh\n",
        "\n",
        "class Car:\n",
        "  def __init__(self, brand, model):\n",
        "    self.brand = brand\n",
        "    self.model = model\n",
        "\n",
        "  def move(self):\n",
        "    print(\"Drive!\")\n",
        "\n",
        "class Boat:\n",
        "  def __init__(self, brand, model):\n",
        "    self.brand = brand\n",
        "    self.model = model\n",
        "\n",
        "  def move(self):\n",
        "    print(\"Sail!\")\n",
        "\n",
        "class Plane:\n",
        "  def __init__(self, brand, model):\n",
        "    self.brand = brand\n",
        "    self.model = model\n",
        "\n",
        "  def move(self):\n",
        "    print(\"Fly!\")\n",
        "\n",
        "car1 = Car(\"Ford\", \"Mustang\")       #Create a Car class\n",
        "boat1 = Boat(\"Ibiza\", \"Touring 20\") #Create a Boat class\n",
        "plane1 = Plane(\"Boeing\", \"747\")     #Create a Plane class\n",
        "\n",
        "for x in (car1, boat1, plane1):\n",
        "  x.move()"
      ],
      "metadata": {
        "colab": {
          "base_uri": "https://localhost:8080/"
        },
        "id": "hvVHoToB3-EO",
        "outputId": "0ccb94b9-f1e5-46f4-831b-3125e7288d1d"
      },
      "execution_count": 22,
      "outputs": [
        {
          "output_type": "stream",
          "name": "stdout",
          "text": [
            "Drive!\n",
            "Sail!\n",
            "Fly!\n"
          ]
        }
      ]
    },
    {
      "cell_type": "markdown",
      "source": [
        "Inheritance Class Polymorphism\n",
        "Bagaimana dengan kelas dengan kelas anak yang memiliki nama yang sama? Bisakah kita menggunakan polimorfisme di sana?\n",
        "\n",
        "Ya. Jika kita menggunakan contoh di atas dan membuat kelas induk yang disebut Vehicle, dan membuat Car, Boat, Plane kelas anak dari Vehicle, kelas anak mewarisi Vehiclemetode, tetapi dapat menimpanya:\n"
      ],
      "metadata": {
        "id": "C-b1FGZe4E9O"
      }
    },
    {
      "cell_type": "code",
      "source": [
        "#contoh\n",
        "\n",
        "class Vehicle:\n",
        "  def __init__(self, brand, model):\n",
        "    self.brand = brand\n",
        "    self.model = model\n",
        "\n",
        "  def move(self):\n",
        "    print(\"Move!\")\n",
        "\n",
        "class Car(Vehicle):\n",
        "  pass\n",
        "\n",
        "class Boat(Vehicle):\n",
        "  def move(self):\n",
        "    print(\"Sail!\")\n",
        "\n",
        "class Plane(Vehicle):\n",
        "  def move(self):\n",
        "    print(\"Fly!\")\n",
        "\n",
        "car1 = Car(\"Ford\", \"Mustang\") #Create a Car object\n",
        "boat1 = Boat(\"Ibiza\", \"Touring 20\") #Create a Boat object\n",
        "plane1 = Plane(\"Boeing\", \"747\") #Create a Plane object\n",
        "\n",
        "for x in (car1, boat1, plane1):\n",
        "  print(x.brand)\n",
        "  print(x.model)\n",
        "  x.move()"
      ],
      "metadata": {
        "colab": {
          "base_uri": "https://localhost:8080/"
        },
        "id": "LqKStYkt4JkX",
        "outputId": "55f7fb53-d805-4ec8-f0fd-c753f452c411"
      },
      "execution_count": 23,
      "outputs": [
        {
          "output_type": "stream",
          "name": "stdout",
          "text": [
            "Ford\n",
            "Mustang\n",
            "Move!\n",
            "Ibiza\n",
            "Touring 20\n",
            "Sail!\n",
            "Boeing\n",
            "747\n",
            "Fly!\n"
          ]
        }
      ]
    },
    {
      "cell_type": "markdown",
      "source": [
        "Weeekly exercise 1\n",
        "Seorang penjual alat tulis menjual 10 bolpoint, 10 pensil dan 10 penghapus. 1 biji bolpoint\n",
        "harganya Rp. 2000, 1 biji pensil harganya Rp. 1.000 dan 1 penghapus harganya Rp. 500.\n",
        "\n",
        "\n",
        "Gunakanlah objek untuk menyelesaikan soal dibawah ini!\n",
        "- Buatlah method untuk memasukkan (setter)\n",
        "nama, stok, harga satuan, dan harga (stok x harga satuan) alat tulis tersebut!\n",
        "\n",
        "- Buatlah method untuk menampilkan (getter) nama, stok, harga satuan, dan harga (stok x harga satuan) alat tulis tersebut!\n",
        "\n",
        "- Buatlah method Total Harga (setter getter) untuk mengelola transaksi penjualan!"
      ],
      "metadata": {
        "id": "yp2hRwnK4XS2"
      }
    },
    {
      "cell_type": "code",
      "source": [
        "#Soal tersebut dapat dijawab dengan code\n",
        "\n",
        "class AlatTulis:\n",
        "    def __init__(self, nama, stok, harga_satuan):\n",
        "        self.nama = nama\n",
        "        self.stok = stok\n",
        "        self.harga_satuan = harga_satuan\n",
        "        self.harga_total = stok * harga_satuan\n",
        "\n",
        "    # Setter methods\n",
        "    def set_nama(self, nama):\n",
        "        self.nama = nama\n",
        "\n",
        "    def set_stok(self, stok):\n",
        "        self.stok = stok\n",
        "        self.harga_total = stok * self.harga_satuan  # Update harga_total\n",
        "\n",
        "    def set_harga_satuan(self, harga_satuan):\n",
        "        self.harga_satuan = harga_satuan\n",
        "        self.harga_total = self.stok * harga_satuan  # Update harga_total\n",
        "\n",
        "    # Getter methods\n",
        "    def get_nama(self):\n",
        "        return self.nama\n",
        "\n",
        "    def get_stok(self):\n",
        "        return self.stok\n",
        "\n",
        "    def get_harga_satuan(self):\n",
        "        return self.harga_satuan\n",
        "\n",
        "    def get_harga_total(self):\n",
        "        return self.harga_total\n",
        "\n",
        "# Creating objects for each stationery item\n",
        "bolpoint = AlatTulis(\"Bolpoint\", 10, 2000)\n",
        "pensil = AlatTulis(\"Pensil\", 10, 1000)\n",
        "penghapus = AlatTulis(\"Penghapus\", 10, 500)\n",
        "\n",
        "# Calculating the total price\n",
        "total_harga = bolpoint.get_harga_total() + pensil.get_harga_total() + penghapus.get_harga_total()\n",
        "\n",
        "# Displaying the total price\n",
        "print(\"Total Harga:\", total_harga)"
      ],
      "metadata": {
        "colab": {
          "base_uri": "https://localhost:8080/"
        },
        "id": "Z0HzPlH24ktm",
        "outputId": "db76b6a2-d366-4564-db8f-26063ff23a6e"
      },
      "execution_count": 24,
      "outputs": [
        {
          "output_type": "stream",
          "name": "stdout",
          "text": [
            "Total Harga: 35000\n"
          ]
        }
      ]
    }
  ]
}